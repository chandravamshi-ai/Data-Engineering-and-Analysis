{
  "cells": [
    {
      "cell_type": "code",
      "execution_count": 1,
      "id": "fbc44f13-861e-455a-a84d-bacf2d5ba387",
      "metadata": {
        "trusted": true
      },
      "outputs": [],
      "source": [
        "import pandas as pd"
      ]
    },
    {
      "cell_type": "markdown",
      "id": "ddfd6fa0",
      "metadata": {},
      "source": [
        "# Extract\n",
        "We use  csv  file to retrieve the Uber dataset which is saved locally.\n",
        "The data is then loaded into a Pandas DataFrame for further processing."
      ]
    },
    {
      "cell_type": "code",
      "execution_count": 4,
      "id": "1cb5f8b3",
      "metadata": {},
      "outputs": [],
      "source": [
        "file_path = \"uber_data.csv\"\n",
        "df = pd.read_csv(file_path)"
      ]
    },
    {
      "cell_type": "markdown",
      "id": "8e482ab6-3344-4a32-aab4-a3b996349d70",
      "metadata": {},
      "source": [
        "# Transformation"
      ]
    },
    {
      "cell_type": "code",
      "execution_count": 5,
      "id": "a4a7af07-951d-42aa-ad49-b6320d36e312",
      "metadata": {
        "trusted": true
      },
      "outputs": [],
      "source": [
        "## Convert datetime columns to datetime type\n",
        "\n",
        "df['tpep_pickup_datetime'] = pd.to_datetime(df['tpep_pickup_datetime'])\n",
        "df['tpep_dropoff_datetime'] = pd.to_datetime(df['tpep_dropoff_datetime'])\n",
        "\n",
        "## Remove duplicates and reset index\n",
        "df = df.drop_duplicates().reset_index(drop=True)\n",
        "\n",
        "## Assign unique trip ID\n",
        "df['trip_id'] = df.index"
      ]
    },
    {
      "cell_type": "markdown",
      "id": "7dbbc2ea-0d8d-4d68-a4cc-c76d719e9570",
      "metadata": {},
      "source": [
        "## Data Modeling"
      ]
    },
    {
      "cell_type": "markdown",
      "id": "cb6f11ed",
      "metadata": {},
      "source": [
        "### Dimension Tables\n",
        "For better data normalization, we extract and structure the following:\n",
        "1. **Date Time Dimension** (datetime_dim)\n",
        "2. **Passenger Count Dimension** ( passenger_count_dim )\n",
        "3. **Trip Distance Dimension** ( trip_distance_dim )\n",
        "4. **Pickup & Dropoff Location Dimensions** ( pickup_location_dim ,  dropoff_location_dim )\n",
        "5. **Rate Code Dimension** ( rate_code_dim ) – Mapped to readable descriptions.\n",
        "6. **Payment Type Dimension** ( payment_type_dim ) – Translates IDs to names.\n"
      ]
    },
    {
      "cell_type": "markdown",
      "id": "f46bef60",
      "metadata": {},
      "source": [
        "### 1.DateTime Dimension\n",
        "We extract various time-related attributes from  tpep_pickup_datetime  and  tpep_dropoff_datetime  to create a separate **datetime dimension table**.\n",
        "\n",
        "#### Attributes:\n",
        "- Pickup & Dropoff: Hour, Day, Weekday, Month, Year\n",
        "- Unique  datetime_id  assigned\n"
      ]
    },
    {
      "cell_type": "code",
      "execution_count": 6,
      "id": "3c99113b",
      "metadata": {
        "trusted": true
      },
      "outputs": [],
      "source": [
        "# Create datetime_dim \n",
        "datetime_dim = df[['tpep_pickup_datetime', 'tpep_dropoff_datetime']].copy()\n",
        "datetime_dim = datetime_dim.assign(\n",
        "    pickup_hour=datetime_dim['tpep_pickup_datetime'].dt.hour,\n",
        "    pickup_day=datetime_dim['tpep_pickup_datetime'].dt.day,\n",
        "    pickup_weekday=datetime_dim['tpep_pickup_datetime'].dt.weekday,\n",
        "    pickup_month=datetime_dim['tpep_pickup_datetime'].dt.month,\n",
        "    pickup_year=datetime_dim['tpep_pickup_datetime'].dt.year,\n",
        "    dropoff_hour=datetime_dim['tpep_dropoff_datetime'].dt.hour,\n",
        "    dropoff_day=datetime_dim['tpep_dropoff_datetime'].dt.day,\n",
        "    dropoff_weekday=datetime_dim['tpep_dropoff_datetime'].dt.weekday,\n",
        "    dropoff_month=datetime_dim['tpep_dropoff_datetime'].dt.month,\n",
        "    dropoff_year=datetime_dim['tpep_dropoff_datetime'].dt.year\n",
        ").reset_index(drop=True)\n",
        "datetime_dim.insert(0, 'datetime_id', datetime_dim.index)"
      ]
    },
    {
      "cell_type": "markdown",
      "id": "9b78f917-89ec-4c1d-aeda-c7b5d6dd4796",
      "metadata": {},
      "source": [
        "### 2. Passenger Count Dimension"
      ]
    },
    {
      "cell_type": "code",
      "execution_count": 7,
      "id": "132ebf56-e7b8-4eda-a9e1-4e52df94d422",
      "metadata": {
        "trusted": true
      },
      "outputs": [],
      "source": [
        "# Passenger Count Dimension\n",
        "passenger_count_dim = df[['passenger_count']].copy()\n",
        "passenger_count_dim.insert(0, 'passenger_count_id', passenger_count_dim.index)"
      ]
    },
    {
      "cell_type": "markdown",
      "id": "16e79f93-499d-4dc1-9eb3-396f0879021e",
      "metadata": {},
      "source": [
        "### 3.Trip Distance Dimension"
      ]
    },
    {
      "cell_type": "code",
      "execution_count": 8,
      "id": "239e6981-aa13-4621-881f-ea9eaeb7a4a9",
      "metadata": {
        "trusted": true
      },
      "outputs": [],
      "source": [
        "# Trip Distance Dimension\n",
        "trip_distance_dim = df[['trip_distance']].copy()\n",
        "trip_distance_dim.insert(0, 'trip_distance_id', trip_distance_dim.index)"
      ]
    },
    {
      "cell_type": "markdown",
      "id": "2f6554fd-d570-48e4-a72b-d5186fdd1c36",
      "metadata": {},
      "source": [
        "### 4.Pickup Location Dimension"
      ]
    },
    {
      "cell_type": "code",
      "execution_count": 9,
      "id": "fd77509f-45aa-49d1-8295-90425d5bd895",
      "metadata": {
        "trusted": true
      },
      "outputs": [],
      "source": [
        "# Pickup Location Dimension\n",
        "pickup_location_dim = df[['pickup_longitude', 'pickup_latitude']].copy()\n",
        "pickup_location_dim.insert(0, 'pickup_location_id', pickup_location_dim.index)"
      ]
    },
    {
      "cell_type": "markdown",
      "id": "8f452175-368b-4722-9b61-e2624adfb9f0",
      "metadata": {},
      "source": [
        "### 5.Dropoff Location Dimension"
      ]
    },
    {
      "cell_type": "code",
      "execution_count": 10,
      "id": "4eab8b1e-9d5a-4864-a850-c0a326671246",
      "metadata": {
        "trusted": true
      },
      "outputs": [],
      "source": [
        "# Dropoff Location Dimension\n",
        "dropoff_location_dim = df[['dropoff_longitude', 'dropoff_latitude']].copy()\n",
        "dropoff_location_dim.insert(0, 'dropoff_location_id', dropoff_location_dim.index)"
      ]
    },
    {
      "cell_type": "markdown",
      "id": "836a3fc5-cea0-40a4-b944-8c0092b0a657",
      "metadata": {},
      "source": [
        "### 6.Rate Code Dimension"
      ]
    },
    {
      "cell_type": "code",
      "execution_count": 11,
      "id": "35022180-cfb1-4004-b916-72bc336a36ef",
      "metadata": {
        "trusted": true
      },
      "outputs": [],
      "source": [
        "# Rate Code Dimension\n",
        "rate_code_type = {\n",
        "    1: 'Standard rate', 2: 'JFK', 3: 'Newark', 4: 'Nassau or Westchester',\n",
        "    5: 'Negotiated fare', 6: 'Group ride'\n",
        "}\n",
        "rate_code_dim = df[['RatecodeID']].copy()\n",
        "rate_code_dim.insert(0, 'rate_code_id', rate_code_dim.index)\n",
        "rate_code_dim['rate_code_name'] = rate_code_dim['RatecodeID'].map(rate_code_type)"
      ]
    },
    {
      "cell_type": "markdown",
      "id": "8a153031-7ac1-4c5b-b23e-d0081e5c499d",
      "metadata": {},
      "source": [
        "### 7.Payment Type Dimension"
      ]
    },
    {
      "cell_type": "code",
      "execution_count": 12,
      "id": "9a1bf1c5-11f9-47e6-bc9c-e16902716777",
      "metadata": {
        "trusted": true
      },
      "outputs": [],
      "source": [
        "# Payment Type Dimension\n",
        "payment_type_name = {\n",
        "    1: 'Credit card', 2: 'Cash', 3: 'No charge',\n",
        "    4: 'Dispute', 5: 'Unknown', 6: 'Voided trip'\n",
        "}\n",
        "payment_type_dim = df[['payment_type']].copy()\n",
        "payment_type_dim.insert(0, 'payment_type_id', payment_type_dim.index)\n",
        "payment_type_dim['payment_type_name'] = payment_type_dim['payment_type'].map(payment_type_name)"
      ]
    },
    {
      "cell_type": "markdown",
      "id": "44b187f0",
      "metadata": {},
      "source": [
        "### Fact Table\n",
        "The **fact table** combines all relevant trip details, merging with dimension tables via unique keys.\n",
        "\n",
        "#### Attributes:\n",
        "-  trip_id ,  VendorID ,  fare_amount ,  extra ,  mta_tax ,  tip_amount ,  tolls_amount ,  improvement_surcharge ,  total_amount \n",
        "- Foreign keys linking to dimension tables.\n"
      ]
    },
    {
      "cell_type": "code",
      "execution_count": 13,
      "id": "b4fe5935",
      "metadata": {
        "trusted": true
      },
      "outputs": [],
      "source": [
        "fact_table = df.merge(passenger_count_dim, left_on='trip_id', right_on='passenger_count_id') \\\n",
        "                .merge(trip_distance_dim, left_on='trip_id', right_on='trip_distance_id') \\\n",
        "                .merge(rate_code_dim, left_on='trip_id', right_on='rate_code_id') \\\n",
        "                .merge(payment_type_dim, left_on='trip_id', right_on='payment_type_id') \\\n",
        "                .merge(datetime_dim, left_on='trip_id', right_on='datetime_id') \\\n",
        "                .merge(pickup_location_dim, left_on='trip_id', right_on='pickup_location_id') \\\n",
        "                .merge(dropoff_location_dim, left_on='trip_id', right_on='dropoff_location_id') \\\n",
        "                [['trip_id', 'VendorID', 'datetime_id', 'passenger_count_id', 'trip_distance_id',\n",
        "                  'pickup_location_id', 'dropoff_location_id', 'rate_code_id', 'payment_type_id',\n",
        "                  'fare_amount', 'extra', 'mta_tax', 'tip_amount', 'tolls_amount',\n",
        "                  'improvement_surcharge', 'total_amount']]"
      ]
    },
    {
      "cell_type": "code",
      "execution_count": 14,
      "id": "52101d06-f074-495b-ac3e-e855cdee5e8b",
      "metadata": {
        "trusted": true
      },
      "outputs": [
        {
          "data": {
            "text/html": [
              "<div>\n",
              "<style scoped>\n",
              "    .dataframe tbody tr th:only-of-type {\n",
              "        vertical-align: middle;\n",
              "    }\n",
              "\n",
              "    .dataframe tbody tr th {\n",
              "        vertical-align: top;\n",
              "    }\n",
              "\n",
              "    .dataframe thead th {\n",
              "        text-align: right;\n",
              "    }\n",
              "</style>\n",
              "<table border=\"1\" class=\"dataframe\">\n",
              "  <thead>\n",
              "    <tr style=\"text-align: right;\">\n",
              "      <th></th>\n",
              "      <th>trip_id</th>\n",
              "      <th>VendorID</th>\n",
              "      <th>datetime_id</th>\n",
              "      <th>passenger_count_id</th>\n",
              "      <th>trip_distance_id</th>\n",
              "      <th>pickup_location_id</th>\n",
              "      <th>dropoff_location_id</th>\n",
              "      <th>rate_code_id</th>\n",
              "      <th>payment_type_id</th>\n",
              "      <th>fare_amount</th>\n",
              "      <th>extra</th>\n",
              "      <th>mta_tax</th>\n",
              "      <th>tip_amount</th>\n",
              "      <th>tolls_amount</th>\n",
              "      <th>improvement_surcharge</th>\n",
              "      <th>total_amount</th>\n",
              "    </tr>\n",
              "  </thead>\n",
              "  <tbody>\n",
              "    <tr>\n",
              "      <th>0</th>\n",
              "      <td>0</td>\n",
              "      <td>1</td>\n",
              "      <td>0</td>\n",
              "      <td>0</td>\n",
              "      <td>0</td>\n",
              "      <td>0</td>\n",
              "      <td>0</td>\n",
              "      <td>0</td>\n",
              "      <td>0</td>\n",
              "      <td>9.0</td>\n",
              "      <td>0.5</td>\n",
              "      <td>0.5</td>\n",
              "      <td>2.05</td>\n",
              "      <td>0.00</td>\n",
              "      <td>0.3</td>\n",
              "      <td>12.35</td>\n",
              "    </tr>\n",
              "    <tr>\n",
              "      <th>1</th>\n",
              "      <td>1</td>\n",
              "      <td>1</td>\n",
              "      <td>1</td>\n",
              "      <td>1</td>\n",
              "      <td>1</td>\n",
              "      <td>1</td>\n",
              "      <td>1</td>\n",
              "      <td>1</td>\n",
              "      <td>1</td>\n",
              "      <td>11.0</td>\n",
              "      <td>0.5</td>\n",
              "      <td>0.5</td>\n",
              "      <td>3.05</td>\n",
              "      <td>0.00</td>\n",
              "      <td>0.3</td>\n",
              "      <td>15.35</td>\n",
              "    </tr>\n",
              "    <tr>\n",
              "      <th>2</th>\n",
              "      <td>2</td>\n",
              "      <td>2</td>\n",
              "      <td>2</td>\n",
              "      <td>2</td>\n",
              "      <td>2</td>\n",
              "      <td>2</td>\n",
              "      <td>2</td>\n",
              "      <td>2</td>\n",
              "      <td>2</td>\n",
              "      <td>54.5</td>\n",
              "      <td>0.5</td>\n",
              "      <td>0.5</td>\n",
              "      <td>8.00</td>\n",
              "      <td>0.00</td>\n",
              "      <td>0.3</td>\n",
              "      <td>63.80</td>\n",
              "    </tr>\n",
              "    <tr>\n",
              "      <th>3</th>\n",
              "      <td>3</td>\n",
              "      <td>2</td>\n",
              "      <td>3</td>\n",
              "      <td>3</td>\n",
              "      <td>3</td>\n",
              "      <td>3</td>\n",
              "      <td>3</td>\n",
              "      <td>3</td>\n",
              "      <td>3</td>\n",
              "      <td>31.5</td>\n",
              "      <td>0.0</td>\n",
              "      <td>0.5</td>\n",
              "      <td>3.78</td>\n",
              "      <td>5.54</td>\n",
              "      <td>0.3</td>\n",
              "      <td>41.62</td>\n",
              "    </tr>\n",
              "    <tr>\n",
              "      <th>4</th>\n",
              "      <td>4</td>\n",
              "      <td>2</td>\n",
              "      <td>4</td>\n",
              "      <td>4</td>\n",
              "      <td>4</td>\n",
              "      <td>4</td>\n",
              "      <td>4</td>\n",
              "      <td>4</td>\n",
              "      <td>4</td>\n",
              "      <td>98.0</td>\n",
              "      <td>0.0</td>\n",
              "      <td>0.0</td>\n",
              "      <td>0.00</td>\n",
              "      <td>15.50</td>\n",
              "      <td>0.3</td>\n",
              "      <td>113.80</td>\n",
              "    </tr>\n",
              "  </tbody>\n",
              "</table>\n",
              "</div>"
            ],
            "text/plain": [
              "   trip_id  VendorID  datetime_id  passenger_count_id  trip_distance_id  \\\n",
              "0        0         1            0                   0                 0   \n",
              "1        1         1            1                   1                 1   \n",
              "2        2         2            2                   2                 2   \n",
              "3        3         2            3                   3                 3   \n",
              "4        4         2            4                   4                 4   \n",
              "\n",
              "   pickup_location_id  dropoff_location_id  rate_code_id  payment_type_id  \\\n",
              "0                   0                    0             0                0   \n",
              "1                   1                    1             1                1   \n",
              "2                   2                    2             2                2   \n",
              "3                   3                    3             3                3   \n",
              "4                   4                    4             4                4   \n",
              "\n",
              "   fare_amount  extra  mta_tax  tip_amount  tolls_amount  \\\n",
              "0          9.0    0.5      0.5        2.05          0.00   \n",
              "1         11.0    0.5      0.5        3.05          0.00   \n",
              "2         54.5    0.5      0.5        8.00          0.00   \n",
              "3         31.5    0.0      0.5        3.78          5.54   \n",
              "4         98.0    0.0      0.0        0.00         15.50   \n",
              "\n",
              "   improvement_surcharge  total_amount  \n",
              "0                    0.3         12.35  \n",
              "1                    0.3         15.35  \n",
              "2                    0.3         63.80  \n",
              "3                    0.3         41.62  \n",
              "4                    0.3        113.80  "
            ]
          },
          "execution_count": 14,
          "metadata": {},
          "output_type": "execute_result"
        }
      ],
      "source": [
        "fact_table.head()"
      ]
    },
    {
      "cell_type": "markdown",
      "id": "a098b33d",
      "metadata": {},
      "source": [
        "# Load"
      ]
    },
    {
      "cell_type": "markdown",
      "id": "e9c981a2",
      "metadata": {},
      "source": [
        "### Load dimension and fact dimensional dataframes as tables into postgresql"
      ]
    },
    {
      "cell_type": "markdown",
      "id": "c2e578f4",
      "metadata": {},
      "source": [
        "#### Connect to Postgres"
      ]
    },
    {
      "cell_type": "code",
      "execution_count": 16,
      "id": "a6fe7c27",
      "metadata": {},
      "outputs": [],
      "source": [
        "\n",
        "from sqlalchemy import create_engine\n",
        "\n",
        "# Database connection details\n",
        "DB_HOST = \"localhost\"  # Or your Docker container IP\n",
        "DB_PORT = \"5432\"\n",
        "DB_NAME = \"uber_data\"\n",
        "DB_USER = \"admin\"\n",
        "DB_PASSWORD = \"admin\"\n",
        "\n",
        "# Create a connection to PostgreSQL\n",
        "engine = create_engine(f'postgresql://{DB_USER}:{DB_PASSWORD}@{DB_HOST}:{DB_PORT}/{DB_NAME}')\n",
        "conn = engine.connect()\n"
      ]
    },
    {
      "cell_type": "markdown",
      "id": "99032969",
      "metadata": {},
      "source": [
        "#### Insert DataFrames "
      ]
    },
    {
      "cell_type": "code",
      "execution_count": null,
      "id": "5a267d7a",
      "metadata": {},
      "outputs": [],
      "source": [
        "# Optimize  .to_sql()  for large tables\n",
        "def upload_dataframe(df, table_name):\n",
        "    df.to_sql(\n",
        "        table_name, \n",
        "        engine, \n",
        "        if_exists=\"replace\", \n",
        "        index=False, \n",
        "        method=\"multi\",  # BATCH INSERTS (Much Faster)\n",
        "        chunksize=10_000  # Upload in chunks of 10K rows\n",
        "    )\n",
        "    print(f\"✅ Uploaded {len(df)} rows into {table_name}\")\n",
        "\n"
      ]
    },
    {
      "cell_type": "code",
      "execution_count": 18,
      "id": "8cd28994",
      "metadata": {},
      "outputs": [
        {
          "name": "stdout",
          "output_type": "stream",
          "text": [
            "✅ Uploaded 100000 rows into datetime_dim\n",
            "✅ Uploaded 100000 rows into passenger_count_dim\n",
            "✅ Uploaded 100000 rows into trip_distance_dim\n",
            "✅ Uploaded 100000 rows into pickup_location_dim\n",
            "✅ Uploaded 100000 rows into dropoff_location_dim\n",
            "✅ Uploaded 100000 rows into rate_code_dim\n",
            "✅ Uploaded 100000 rows into payment_type_dim\n",
            "✅ Uploaded 100000 rows into fact_table\n"
          ]
        }
      ],
      "source": [
        "# Upload all dfs as tables\n",
        "upload_dataframe(datetime_dim, \"datetime_dim\")\n",
        "upload_dataframe(passenger_count_dim, \"passenger_count_dim\")\n",
        "upload_dataframe(trip_distance_dim, \"trip_distance_dim\")\n",
        "upload_dataframe(pickup_location_dim, \"pickup_location_dim\")\n",
        "upload_dataframe(dropoff_location_dim, \"dropoff_location_dim\")\n",
        "upload_dataframe(rate_code_dim, \"rate_code_dim\")\n",
        "upload_dataframe(payment_type_dim, \"payment_type_dim\")\n",
        "upload_dataframe(fact_table, \"fact_table\")"
      ]
    },
    {
      "cell_type": "code",
      "execution_count": 19,
      "id": "b3c931c0",
      "metadata": {},
      "outputs": [],
      "source": [
        "# Close connection\n",
        "conn.close()\n",
        "engine.dispose()"
      ]
    },
    {
      "cell_type": "markdown",
      "id": "2c4a7240",
      "metadata": {},
      "source": [
        "# Anyalysis "
      ]
    },
    {
      "cell_type": "code",
      "execution_count": 21,
      "id": "cfe09c2d",
      "metadata": {},
      "outputs": [],
      "source": [
        "from sqlalchemy import text\n",
        "# Database connection details\n",
        "DB_HOST = \"localhost\"  # Or your Docker container IP\n",
        "DB_PORT = \"5432\"\n",
        "DB_NAME = \"uber_data\"\n",
        "DB_USER = \"admin\"\n",
        "DB_PASSWORD = \"admin\"\n",
        "\n",
        "# Create a connection to PostgreSQL\n",
        "engine = create_engine(f'postgresql://{DB_USER}:{DB_PASSWORD}@{DB_HOST}:{DB_PORT}/{DB_NAME}')\n",
        "\n",
        "\n",
        "# Define a function to execute the query and return results as a DataFrame\n",
        "def run_query(query: str):\n",
        "    with engine.connect() as connection:\n",
        "        result = connection.execute(text(query))\n",
        "        return pd.DataFrame(result.fetchall(), columns=result.keys())\n",
        "\n",
        "\n"
      ]
    },
    {
      "cell_type": "markdown",
      "id": "e2ec3cfb",
      "metadata": {},
      "source": [
        "#### Create/Replace the analytics table"
      ]
    },
    {
      "cell_type": "code",
      "execution_count": null,
      "id": "d80193f2",
      "metadata": {},
      "outputs": [],
      "source": [
        "# First SQL Query: Create/Replace the analytics table\n",
        "\n",
        "# Query to drop the table if it exists\n",
        "drop_table_query = \"\"\"\n",
        "DROP TABLE IF EXISTS uber_analytics.analytics_table;\n",
        "\"\"\"\n",
        "\n",
        "# Query to create the new table\n",
        "create_table_query = \"\"\"\n",
        "CREATE TABLE uber_analytics.\"analytics_table\" AS\n",
        "SELECT \n",
        "  f.\"trip_id\",\n",
        "  f.\"VendorID\",\n",
        "  d.\"tpep_pickup_datetime\",\n",
        "  d.\"tpep_dropoff_datetime\",\n",
        "  p.\"passenger_count\",\n",
        "  t.\"trip_distance\",\n",
        "  r.\"rate_code_name\",\n",
        "  pick.\"pickup_latitude\",\n",
        "  pick.\"pickup_longitude\",\n",
        "  drop.\"dropoff_latitude\",\n",
        "  drop.\"dropoff_longitude\",\n",
        "  pay.\"payment_type_name\",\n",
        "  f.\"fare_amount\",\n",
        "  f.\"extra\",\n",
        "  f.\"mta_tax\",\n",
        "  f.\"tip_amount\",\n",
        "  f.\"tolls_amount\",\n",
        "  f.\"improvement_surcharge\",\n",
        "  f.\"total_amount\"\n",
        "FROM public.\"fact_table\" AS f\n",
        "INNER JOIN public.\"datetime_dim\" AS d  \n",
        "  ON f.\"datetime_id\" = d.\"datetime_id\"\n",
        "INNER JOIN public.\"passenger_count_dim\" AS p\n",
        "  ON p.\"passenger_count_id\" = f.\"passenger_count_id\"  \n",
        "INNER JOIN public.\"trip_distance_dim\" AS t\n",
        "  ON t.\"trip_distance_id\" = f.\"trip_distance_id\"  \n",
        "INNER JOIN public.\"rate_code_dim\" AS r \n",
        "  ON r.\"rate_code_id\" = f.\"rate_code_id\"  \n",
        "INNER JOIN public.\"pickup_location_dim\" AS pick\n",
        "  ON pick.\"pickup_location_id\" = f.\"pickup_location_id\"\n",
        "INNER JOIN public.\"dropoff_location_dim\" AS drop\n",
        "  ON drop.\"dropoff_location_id\" = f.\"dropoff_location_id\"\n",
        "INNER JOIN public.\"payment_type_dim\" AS pay\n",
        "  ON pay.\"payment_type_id\" = f.\"payment_type_id\";\n",
        "\"\"\"\n"
      ]
    },
    {
      "cell_type": "code",
      "execution_count": null,
      "id": "1e739099",
      "metadata": {},
      "outputs": [
        {
          "name": "stdout",
          "output_type": "stream",
          "text": [
            "Table created successfully in the uber_analytics schema!\n"
          ]
        }
      ],
      "source": [
        "# Execute the queries\n",
        "with engine.connect() as connection:\n",
        "    connection.execute(text(drop_table_query))  # Drop the table if it exists\n",
        "    connection.execute(text(create_table_query))  # Create the table\n",
        "    result = connection.execute(text(create_table_query))\n",
        "\n",
        "\n",
        "print(\"Table created successfully in the uber_analytics schema!\")"
      ]
    },
    {
      "cell_type": "markdown",
      "id": "7711fc89",
      "metadata": {},
      "source": [
        "#### Fetch top 10 pickup locations "
      ]
    },
    {
      "cell_type": "code",
      "execution_count": 47,
      "id": "be122168",
      "metadata": {},
      "outputs": [
        {
          "name": "stdout",
          "output_type": "stream",
          "text": [
            "   pickup_latitude  pickup_longitude  trip_count\n",
            "0         0.000000          0.000000         925\n",
            "1        40.747292        -73.938316          21\n",
            "2        40.762550        -73.986588          20\n",
            "3        40.715248        -73.755020          20\n",
            "4        40.681492        -74.105141          20\n",
            "5        40.812801        -73.960541          14\n",
            "6        40.745331        -73.970848          13\n",
            "7        40.751541        -73.945274          11\n",
            "8        40.833084        -73.945747           9\n",
            "9        40.784790        -73.958015           8\n"
          ]
        }
      ],
      "source": [
        "# Second Query: Fetch top 10 pickup locations\n",
        "pickup_query = \"\"\"\n",
        "SELECT \n",
        "  pickup_latitude, \n",
        "  pickup_longitude, \n",
        "  COUNT(trip_id) AS trip_count\n",
        "FROM  uber_analytics.analytics_table \n",
        "GROUP BY pickup_latitude, pickup_longitude\n",
        "ORDER BY trip_count DESC\n",
        "LIMIT 10;\n",
        "\"\"\"\n",
        "\n",
        "pickup_results = run_query(pickup_query)\n",
        "print(pickup_results)"
      ]
    },
    {
      "cell_type": "markdown",
      "id": "a41fdb1c",
      "metadata": {},
      "source": [
        "#### Get trips by passenger count"
      ]
    },
    {
      "cell_type": "code",
      "execution_count": 49,
      "id": "acd9f604",
      "metadata": {},
      "outputs": [
        {
          "name": "stdout",
          "output_type": "stream",
          "text": [
            "   passenger_count  trip_count\n",
            "0                1       65493\n",
            "1                2       13709\n",
            "2                5        8748\n",
            "3                6        6077\n",
            "4                3        4076\n",
            "5                4        1894\n",
            "6                0           3\n"
          ]
        }
      ],
      "source": [
        "# Third Query: Get trips by passenger count\n",
        "passenger_count_query = \"\"\"\n",
        "SELECT \n",
        "  p.passenger_count, \n",
        "  COUNT(f.trip_id) AS trip_count\n",
        "FROM  public.fact_table  AS f\n",
        "JOIN  public.passenger_count_dim  AS p\n",
        "  ON f.passenger_count_id = p.passenger_count_id\n",
        "GROUP BY p.passenger_count\n",
        "ORDER BY trip_count DESC;\n",
        "\"\"\"\n",
        "\n",
        "passenger_count_results = run_query(passenger_count_query)\n",
        "print(passenger_count_results)"
      ]
    },
    {
      "cell_type": "markdown",
      "id": "ab0d020f",
      "metadata": {},
      "source": [
        "#### Get average fare per pickup hour"
      ]
    },
    {
      "cell_type": "code",
      "execution_count": 51,
      "id": "f9bea638",
      "metadata": {},
      "outputs": [
        {
          "name": "stdout",
          "output_type": "stream",
          "text": [
            "    pickup_hour   avg_fare\n",
            "0             0  14.008186\n",
            "1             1  13.907300\n",
            "2             2  12.901618\n",
            "3             3  14.090516\n",
            "4             4  16.071229\n",
            "5             5  14.440222\n",
            "6             6  13.584520\n",
            "7             7  12.006951\n",
            "8             8  12.213717\n",
            "9             9  12.594821\n",
            "10           10  12.973568\n",
            "11           11  13.124655\n",
            "12           12  13.243506\n",
            "13           13  14.002043\n",
            "14           14  14.959385\n"
          ]
        }
      ],
      "source": [
        "# Fourth Query: Get average fare per pickup hour\n",
        "fare_query = \"\"\"\n",
        "SELECT \n",
        "  d.pickup_hour, \n",
        "  AVG(f.fare_amount) AS avg_fare\n",
        "FROM public.fact_table AS f\n",
        "LEFT JOIN public.datetime_dim AS d\n",
        "  ON f.datetime_id = d.datetime_id\n",
        "GROUP BY d.pickup_hour\n",
        "ORDER BY d.pickup_hour ASC;\n",
        "\"\"\"\n",
        "\n",
        "fare_results = run_query(fare_query)\n",
        "print(fare_results)"
      ]
    },
    {
      "cell_type": "code",
      "execution_count": 52,
      "id": "3d50ba43",
      "metadata": {},
      "outputs": [],
      "source": [
        "# Close connection\n",
        "conn.close()\n",
        "engine.dispose()"
      ]
    },
    {
      "cell_type": "code",
      "execution_count": null,
      "id": "c09b7206",
      "metadata": {},
      "outputs": [],
      "source": []
    }
  ],
  "metadata": {
    "kernelspec": {
      "display_name": ".venv",
      "language": "python",
      "name": "python3"
    },
    "language_info": {
      "codemirror_mode": {
        "name": "ipython",
        "version": 3
      },
      "file_extension": ".py",
      "mimetype": "text/x-python",
      "name": "python",
      "nbconvert_exporter": "python",
      "pygments_lexer": "ipython3",
      "version": "3.13.1"
    }
  },
  "nbformat": 4,
  "nbformat_minor": 5
}
